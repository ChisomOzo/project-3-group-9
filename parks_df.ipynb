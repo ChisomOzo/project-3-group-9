{
 "cells": [
  {
   "cell_type": "code",
   "execution_count": 1,
   "metadata": {},
   "outputs": [],
   "source": [
    "# Import dependencies\n",
    "import pandas as pd\n",
    "import numpy as np\n",
    "import requests\n",
    "pd.set_option('max_colwidth', 400)"
   ]
  },
  {
   "cell_type": "code",
   "execution_count": 2,
   "metadata": {},
   "outputs": [
    {
     "name": "stdout",
     "output_type": "stream",
     "text": [
      "<class 'pandas.core.frame.DataFrame'>\n",
      "RangeIndex: 470 entries, 0 to 469\n",
      "Data columns (total 5 columns):\n",
      " #   Column     Non-Null Count  Dtype  \n",
      "---  ------     --------------  -----  \n",
      " 0   Name       470 non-null    object \n",
      " 1   Address    470 non-null    object \n",
      " 2   Ratings    470 non-null    float64\n",
      " 3   Latitude   470 non-null    float64\n",
      " 4   Longitude  470 non-null    float64\n",
      "dtypes: float64(3), object(2)\n",
      "memory usage: 18.5+ KB\n"
     ]
    }
   ],
   "source": [
    "# API key and URL\n",
    "api_key = 'Your_API_Key'\n",
    "api_url = 'https://api.yelp.com/v3/businesses/search'\n",
    "\n",
    "# Params\n",
    "params = {\n",
    "    'term': 'park',\n",
    "    'location': 'Austin',\n",
    "    'categories': 'parks',\n",
    "    'limit': 50,\n",
    "    'offset': 0\n",
    "}\n",
    "\n",
    "# Set up headers\n",
    "headers = {\n",
    "    'Authorization': api_key\n",
    "}\n",
    "\n",
    "# Empty list for results\n",
    "all_parks = []\n",
    "results_per_request = 50\n",
    "\n",
    "while True:\n",
    "    # API request\n",
    "    response = requests.get(api_url, params=params, headers=headers)\n",
    "\n",
    "    # If request successful\n",
    "    if response.status_code == 200:\n",
    "        data = response.json()\n",
    "        businesses = data.get('businesses', [])\n",
    "        all_parks.extend(businesses)\n",
    "\n",
    "        # Check if more results\n",
    "        if len(businesses) < results_per_request:\n",
    "            break\n",
    "\n",
    "        # Update offset for the next request\n",
    "        params['offset'] += results_per_request\n",
    "\n",
    "    else:\n",
    "        print(f\"Error: {response.status_code}\")\n",
    "        print(response.text)\n",
    "        break\n",
    "\n",
    "# Create list of dictionaries\n",
    "park_data = []\n",
    "for business in all_parks:\n",
    "    coordinates = business.get('coordinates', {})\n",
    "    park_data.append({\n",
    "        'Name': business.get('name', ''),\n",
    "        'Address': ', '.join(business.get('location', {}).get('display_address', [])),\n",
    "        'Ratings': business.get('rating', 0),\n",
    "        'Latitude': coordinates.get('latitude', 0),\n",
    "        'Longitude': coordinates.get('longitude', 0)\n",
    "    })\n",
    "\n",
    "# Create a Pandas DataFrame\n",
    "park_df = pd.DataFrame(park_data)\n",
    "park_df.info()"
   ]
  },
  {
   "cell_type": "code",
   "execution_count": 3,
   "metadata": {},
   "outputs": [
    {
     "name": "stdout",
     "output_type": "stream",
     "text": [
      "   park_id                     park_name  \\\n",
      "0        1                    Pease Park   \n",
      "1        2                   Zilker Park   \n",
      "2        3  Town Lake Metropolitan Parks   \n",
      "3        4             Mueller Lake Park   \n",
      "4        5        Barton Creek Greenbelt   \n",
      "\n",
      "                                    park_address  park_ratings   latitude  \\\n",
      "0           1100 Kingsburry St, Austin, TX 78799           4.5  30.281418   \n",
      "1       2100 Barton Springs Rd, Austin, TX 78704           4.5  30.266852   \n",
      "2                               Austin, TX 78701           5.0  30.270895   \n",
      "3            4550 Mueller Blvd, Austin, TX 78723           4.5  30.305104   \n",
      "4  3755-B Capital Of Texas Hwy, Austin, TX 78704           4.5  30.247184   \n",
      "\n",
      "   longitude  \n",
      "0 -97.751934  \n",
      "1 -97.775849  \n",
      "2 -97.764860  \n",
      "3 -97.703492  \n",
      "4 -97.812688  \n"
     ]
    }
   ],
   "source": [
    "# Create DF\n",
    "parks_df = park_df[['Name', 'Address', 'Ratings', 'Latitude', 'Longitude']].copy()\n",
    "\n",
    "# Rename columns\n",
    "parks_df.columns = ['park_name', 'park_address', 'park_ratings', 'latitude', 'longitude']\n",
    "\n",
    "# Add new column for park_id\n",
    "parks_df['park_id'] = range(1, len(parks_df) + 1)\n",
    "\n",
    "# Reorder columns\n",
    "parks_df = parks_df[['park_id', 'park_name', 'park_address', 'park_ratings', 'latitude', 'longitude']]\n",
    "print(parks_df.head())"
   ]
  },
  {
   "cell_type": "code",
   "execution_count": 4,
   "metadata": {},
   "outputs": [],
   "source": [
    "# Export DF as CSV file\n",
    "parks_df.to_csv(\"Resources/parks.csv\", index=False)"
   ]
  },
  {
   "cell_type": "code",
   "execution_count": 5,
   "metadata": {},
   "outputs": [],
   "source": [
    "# Load property data from CSV\n",
    "property_df = pd.read_csv(\"Resources/property.csv\")"
   ]
  },
  {
   "cell_type": "code",
   "execution_count": 6,
   "metadata": {},
   "outputs": [
    {
     "name": "stdout",
     "output_type": "stream",
     "text": [
      "     property_id park_id\n",
      "0              1     192\n",
      "1              7     192\n",
      "2              7     364\n",
      "3              7     397\n",
      "4              7     413\n",
      "...          ...     ...\n",
      "9371        8867     120\n",
      "9372        8868     228\n",
      "9373        8870      69\n",
      "9374        8871      69\n",
      "9375        8871     120\n",
      "\n",
      "[9376 rows x 2 columns]\n"
     ]
    }
   ],
   "source": [
    "from geopy.distance import great_circle\n",
    "\n",
    "# Junction Table for property_park\n",
    "property_park_df = pd.DataFrame(columns=['property_id', 'park_id'])\n",
    "\n",
    "# Find nearby locations and create relationships\n",
    "for property_row in property_df.itertuples():\n",
    "    property_location = (property_row.latitude, property_row.longitude)\n",
    "    \n",
    "    for park_row in parks_df.itertuples():\n",
    "        park_location = (park_row.latitude, park_row.longitude)\n",
    "        \n",
    "        # Calculate distance between property and park locations\n",
    "        distance_km = great_circle(property_location, park_location).kilometers\n",
    "        \n",
    "        # Define a distance threshold (adjust as needed)\n",
    "        distance_threshold = 1.0  \n",
    "        \n",
    "        # If the distance is within the threshold, create a relationship\n",
    "        if distance_km <= distance_threshold:\n",
    "            new_row = pd.DataFrame({\n",
    "                'property_id': [property_row.property_id],\n",
    "                'park_id': [park_row.park_id]\n",
    "            })\n",
    "            property_park_df = pd.concat([property_park_df, new_row], ignore_index=True)\n",
    "\n",
    "# Display the resulting DataFrame\n",
    "print(property_park_df)"
   ]
  },
  {
   "cell_type": "code",
   "execution_count": 7,
   "metadata": {},
   "outputs": [],
   "source": [
    "# Export junction table as CSV file\n",
    "property_park_df.to_csv(\"Resources/property_park.csv\", index=False)"
   ]
  },
  {
   "cell_type": "code",
   "execution_count": null,
   "metadata": {},
   "outputs": [],
   "source": []
  }
 ],
 "metadata": {
  "kernelspec": {
   "display_name": "dev",
   "language": "python",
   "name": "python3"
  },
  "language_info": {
   "codemirror_mode": {
    "name": "ipython",
    "version": 3
   },
   "file_extension": ".py",
   "mimetype": "text/x-python",
   "name": "python",
   "nbconvert_exporter": "python",
   "pygments_lexer": "ipython3",
   "version": "3.10.13"
  }
 },
 "nbformat": 4,
 "nbformat_minor": 2
}
