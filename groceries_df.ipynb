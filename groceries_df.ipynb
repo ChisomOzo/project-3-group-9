{
 "cells": [
  {
   "cell_type": "code",
   "execution_count": 1,
   "metadata": {},
   "outputs": [],
   "source": [
    "# Import dependencies\n",
    "import pandas as pd\n",
    "import numpy as np\n",
    "import requests"
   ]
  },
  {
   "cell_type": "code",
   "execution_count": 2,
   "metadata": {},
   "outputs": [
    {
     "name": "stdout",
     "output_type": "stream",
     "text": [
      "<class 'pandas.core.frame.DataFrame'>\n",
      "RangeIndex: 346 entries, 0 to 345\n",
      "Data columns (total 5 columns):\n",
      " #   Column     Non-Null Count  Dtype  \n",
      "---  ------     --------------  -----  \n",
      " 0   Name       346 non-null    object \n",
      " 1   Address    346 non-null    object \n",
      " 2   Ratings    346 non-null    float64\n",
      " 3   Latitude   346 non-null    float64\n",
      " 4   Longitude  346 non-null    float64\n",
      "dtypes: float64(3), object(2)\n",
      "memory usage: 13.6+ KB\n"
     ]
    }
   ],
   "source": [
    "# API key and URL\n",
    "api_key = 'Bearer b19_eQfzPJHYB3SiBBxLYnn13NA8BzNHYe8AF6F0j90IIZ5EnqnHD3XBbPFv14iUQyLy_1L8A74TLDPIMjT4it-s63GM9BNZF0Hl6iulzIyx-piOIKAJvDTvon5uZXYx'\n",
    "api_url = 'https://api.yelp.com/v3/businesses/search'\n",
    "\n",
    "# Params\n",
    "params = {\n",
    "    'term': 'grocery',\n",
    "    'location': 'Austin',\n",
    "    'categories': 'grocery',\n",
    "    'limit': 50,\n",
    "    'offset': 0\n",
    "}\n",
    "\n",
    "# Set up headers\n",
    "headers = {\n",
    "    'Authorization': api_key\n",
    "}\n",
    "\n",
    "# Empty list for results\n",
    "all_groceries = []\n",
    "results_per_request = 50\n",
    "\n",
    "while True:\n",
    "    # API request\n",
    "    response = requests.get(api_url, params=params, headers=headers)\n",
    "\n",
    "    # If request successful\n",
    "    if response.status_code == 200:\n",
    "        data = response.json()\n",
    "        businesses = data.get('businesses', [])\n",
    "        all_groceries.extend(businesses)\n",
    "\n",
    "        # Check if more results\n",
    "        if len(businesses) < results_per_request:\n",
    "            break\n",
    "\n",
    "        # Update offset for the next request\n",
    "        params['offset'] += results_per_request\n",
    "\n",
    "    else:\n",
    "        print(f\"Error: {response.status_code}\")\n",
    "        print(response.text)\n",
    "        break\n",
    "\n",
    "# Create list of dictionaries\n",
    "grocery_data = []\n",
    "for business in all_groceries:\n",
    "    coordinates = business.get('coordinates', {})\n",
    "    grocery_data.append({\n",
    "        'Name': business.get('name', ''),\n",
    "        'Address': ', '.join(business.get('location', {}).get('display_address', [])),\n",
    "        'Ratings': business.get('rating', 0),\n",
    "        'Latitude': coordinates.get('latitude', 0),\n",
    "        'Longitude': coordinates.get('longitude', 0)\n",
    "    })\n",
    "\n",
    "# Create a Pandas DataFrame\n",
    "grocery_df = pd.DataFrame(grocery_data)\n",
    "grocery_df.info()"
   ]
  },
  {
   "cell_type": "code",
   "execution_count": 3,
   "metadata": {},
   "outputs": [
    {
     "name": "stdout",
     "output_type": "stream",
     "text": [
      "   grocery_id                  grocery_name  \\\n",
      "0           1                         H-E-B   \n",
      "1           2  Central Market - North Lamar   \n",
      "2           3                 ATX Food Mart   \n",
      "3           4        Sprouts Farmers Market   \n",
      "4           5             Lake Austin H-E-B   \n",
      "\n",
      "                                     grocery_address  grocery_ratings  \\\n",
      "0                   1000 E 41st St, Austin, TX 78751              3.5   \n",
      "1                4001 N Lamar Blvd, Austin, TX 78756              4.0   \n",
      "2              3002 S Congress Ave, Austin, TX 78704              5.0   \n",
      "3  1201 Barbara Jordan Blvd, Bldg 7, Austin, TX 7...              5.0   \n",
      "4            2652 Lake Austin Blvd, Austin, TX 78703              4.0   \n",
      "\n",
      "    latitude  longitude  \n",
      "0  30.300643 -97.719963  \n",
      "1  30.307620 -97.739877  \n",
      "2  30.232479 -97.758972  \n",
      "3  30.304818 -97.709573  \n",
      "4  30.283791 -97.775821  \n"
     ]
    }
   ],
   "source": [
    "# Create DF\n",
    "groceries_df = grocery_df[['Name', 'Address', 'Ratings', 'Latitude', 'Longitude']].copy()\n",
    "\n",
    "# Rename columns\n",
    "groceries_df.columns = ['grocery_name', 'grocery_address', 'grocery_ratings', 'latitude', 'longitude']\n",
    "\n",
    "# Add new column for grocery_id\n",
    "groceries_df['grocery_id'] = range(1, len(groceries_df) + 1)\n",
    "\n",
    "# Reorder columns\n",
    "groceries_df = groceries_df[['grocery_id', 'grocery_name', 'grocery_address', 'grocery_ratings', 'latitude', 'longitude']]\n",
    "print(groceries_df.head())"
   ]
  },
  {
   "cell_type": "code",
   "execution_count": 4,
   "metadata": {},
   "outputs": [],
   "source": [
    "# Export DF as CSV file\n",
    "groceries_df.to_csv(\"Resources/groceries.csv\", index=False)\n"
   ]
  },
  {
   "cell_type": "code",
   "execution_count": 5,
   "metadata": {},
   "outputs": [],
   "source": [
    "# Load property data from CSV\n",
    "property_df = pd.read_csv(\"Resources/property.csv\")"
   ]
  },
  {
   "cell_type": "code",
   "execution_count": 6,
   "metadata": {},
   "outputs": [
    {
     "name": "stdout",
     "output_type": "stream",
     "text": [
      "     property_id grocery_id\n",
      "0              9        137\n",
      "1              9        238\n",
      "2             10        137\n",
      "3             10        238\n",
      "4             33         99\n",
      "...          ...        ...\n",
      "7043        8877        270\n",
      "7044        8878        240\n",
      "7045        8878        270\n",
      "7046        8879        270\n",
      "7047        8880        270\n",
      "\n",
      "[7048 rows x 2 columns]\n"
     ]
    }
   ],
   "source": [
    "from geopy.distance import great_circle\n",
    "\n",
    "# Junction Table for property_grocery\n",
    "property_grocery_df = pd.DataFrame(columns=['property_id', 'grocery_id'])\n",
    "\n",
    "# Find nearby locations and create relationships\n",
    "for property_row in property_df.itertuples():\n",
    "    property_location = (property_row.latitude, property_row.longitude)\n",
    "    \n",
    "    for grocery_row in groceries_df.itertuples():\n",
    "        grocery_location = (grocery_row.latitude, grocery_row.longitude)\n",
    "        \n",
    "        # Calculate distance between property and grocery locations\n",
    "        distance_km = great_circle(property_location, grocery_location).kilometers\n",
    "        \n",
    "        # Define a distance threshold (adjust as needed)\n",
    "        distance_threshold = 1.0  \n",
    "        \n",
    "        # If the distance is within the threshold, create a relationship\n",
    "        if distance_km <= distance_threshold:\n",
    "            new_row = pd.DataFrame({\n",
    "                'property_id': [property_row.property_id],\n",
    "                'grocery_id': [grocery_row.grocery_id]\n",
    "            })\n",
    "            property_grocery_df = pd.concat([property_grocery_df, new_row], ignore_index=True)\n",
    "\n",
    "# Display the resulting DataFrame\n",
    "print(property_grocery_df)\n"
   ]
  },
  {
   "cell_type": "code",
   "execution_count": 7,
   "metadata": {},
   "outputs": [],
   "source": [
    "# Export junction table as CSV file\n",
    "property_grocery_df.to_csv(\"Resources/property_grocery.csv\", index=False)"
   ]
  },
  {
   "cell_type": "code",
   "execution_count": null,
   "metadata": {},
   "outputs": [],
   "source": []
  }
 ],
 "metadata": {
  "kernelspec": {
   "display_name": "dev",
   "language": "python",
   "name": "python3"
  },
  "language_info": {
   "codemirror_mode": {
    "name": "ipython",
    "version": 3
   },
   "file_extension": ".py",
   "mimetype": "text/x-python",
   "name": "python",
   "nbconvert_exporter": "python",
   "pygments_lexer": "ipython3",
   "version": "3.10.13"
  }
 },
 "nbformat": 4,
 "nbformat_minor": 2
}
