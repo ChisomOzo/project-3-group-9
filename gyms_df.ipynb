{
 "cells": [
  {
   "cell_type": "code",
   "execution_count": 9,
   "metadata": {},
   "outputs": [],
   "source": [
    "# Import dependencies\n",
    "import pandas as pd\n",
    "import numpy as np\n",
    "import requests\n",
    "pd.set_option('max_colwidth', 400)"
   ]
  },
  {
   "cell_type": "code",
   "execution_count": 10,
   "metadata": {},
   "outputs": [
    {
     "name": "stdout",
     "output_type": "stream",
     "text": [
      "<class 'pandas.core.frame.DataFrame'>\n",
      "RangeIndex: 351 entries, 0 to 350\n",
      "Data columns (total 5 columns):\n",
      " #   Column     Non-Null Count  Dtype  \n",
      "---  ------     --------------  -----  \n",
      " 0   Name       351 non-null    object \n",
      " 1   Address    351 non-null    object \n",
      " 2   Ratings    351 non-null    float64\n",
      " 3   Latitude   351 non-null    float64\n",
      " 4   Longitude  351 non-null    float64\n",
      "dtypes: float64(3), object(2)\n",
      "memory usage: 13.8+ KB\n"
     ]
    }
   ],
   "source": [
    "# API key and URL\n",
    "api_key = 'Your_API_Key'\n",
    "api_url = 'https://api.yelp.com/v3/businesses/search'\n",
    "\n",
    "# Params\n",
    "params = {\n",
    "    'term': 'gym',\n",
    "    'location': 'Austin',\n",
    "    'categories': 'gyms',\n",
    "    'limit': 50,\n",
    "    'offset': 0\n",
    "}\n",
    "\n",
    "# Set up headers\n",
    "headers = {\n",
    "    'Authorization': api_key\n",
    "}\n",
    "\n",
    "# Empty list for results\n",
    "all_gyms = []\n",
    "results_per_request = 50\n",
    "\n",
    "while True:\n",
    "    # API request\n",
    "    response = requests.get(api_url, params=params, headers=headers)\n",
    "\n",
    "    # If request successful\n",
    "    if response.status_code == 200:\n",
    "        data = response.json()\n",
    "        businesses = data.get('businesses', [])\n",
    "        all_gyms.extend(businesses)\n",
    "\n",
    "        # Check if more results\n",
    "        if len(businesses) < results_per_request:\n",
    "            break\n",
    "\n",
    "        # Update offset for the next request\n",
    "        params['offset'] += results_per_request\n",
    "\n",
    "    else:\n",
    "        print(f\"Error: {response.status_code}\")\n",
    "        print(response.text)\n",
    "        break\n",
    "\n",
    "# Create list of dictionaries\n",
    "gym_data = []\n",
    "for business in all_gyms:\n",
    "    coordinates = business.get('coordinates', {})\n",
    "    gym_data.append({\n",
    "        'Name': business.get('name', ''),\n",
    "        'Address': ', '.join(business.get('location', {}).get('display_address', [])),\n",
    "        'Ratings': business.get('rating', 0),\n",
    "        'Latitude': coordinates.get('latitude', 0),\n",
    "        'Longitude': coordinates.get('longitude', 0)\n",
    "    })\n",
    "\n",
    "# Create a Pandas DataFrame\n",
    "gym_df = pd.DataFrame(gym_data)\n",
    "gym_df.info()"
   ]
  },
  {
   "cell_type": "code",
   "execution_count": 11,
   "metadata": {},
   "outputs": [
    {
     "name": "stdout",
     "output_type": "stream",
     "text": [
      "   gym_id              gym_name  \\\n",
      "0       1   Castle Hill Fitness   \n",
      "1       2              Lift ATX   \n",
      "2       3        Atomic Athlete   \n",
      "3       4  FeV - Iron Vault Gym   \n",
      "4       5           Big Tex Gym   \n",
      "\n",
      "                                         gym_address  gym_ratings   latitude  \\\n",
      "0         1112 N Lamar Blvd, Ste B, Austin, TX 78703          4.5  30.276770   \n",
      "1        1005 Springdale Rd, Ste 3, Austin, TX 78721          4.0  30.265355   \n",
      "2               3907 Warehouse Row, Austin, TX 78704          5.0  30.222190   \n",
      "3  2101 W Ben White Blvd, Unit 105, Austin, TX 78704          5.0  30.229705   \n",
      "4     1921 Cedar Bend Dr, Ste A130, Austin, TX 78758          4.5  30.407541   \n",
      "\n",
      "   longitude  \n",
      "0 -97.752040  \n",
      "1 -97.694444  \n",
      "2 -97.756855  \n",
      "3 -97.791346  \n",
      "4 -97.697903  \n"
     ]
    }
   ],
   "source": [
    "# Create DF\n",
    "gyms_df = gym_df[['Name', 'Address', 'Ratings', 'Latitude', 'Longitude']].copy()\n",
    "\n",
    "# Rename columns\n",
    "gyms_df.columns = ['gym_name', 'gym_address', 'gym_ratings', 'latitude', 'longitude']\n",
    "\n",
    "# Add new column for gym_id\n",
    "gyms_df['gym_id'] = range(1, len(gyms_df) + 1)\n",
    "\n",
    "# Reorder columns\n",
    "gyms_df = gyms_df[['gym_id', 'gym_name', 'gym_address', 'gym_ratings', 'latitude', 'longitude']]\n",
    "print(gyms_df.head())"
   ]
  },
  {
   "cell_type": "code",
   "execution_count": 12,
   "metadata": {},
   "outputs": [],
   "source": [
    "# Export DF as CSV file\n",
    "gyms_df.to_csv(\"Resources/gyms.csv\", index=False)"
   ]
  },
  {
   "cell_type": "code",
   "execution_count": 13,
   "metadata": {},
   "outputs": [],
   "source": [
    "# Load property data from CSV\n",
    "property_df = pd.read_csv(\"Resources/property.csv\")"
   ]
  },
  {
   "cell_type": "code",
   "execution_count": 14,
   "metadata": {},
   "outputs": [
    {
     "name": "stdout",
     "output_type": "stream",
     "text": [
      "     property_id gym_id\n",
      "0              7    115\n",
      "1              7    197\n",
      "2              7    334\n",
      "3              9    235\n",
      "4              9    302\n",
      "...          ...    ...\n",
      "6252        8876    175\n",
      "6253        8877    147\n",
      "6254        8877    175\n",
      "6255        8878    147\n",
      "6256        8878    175\n",
      "\n",
      "[6257 rows x 2 columns]\n"
     ]
    }
   ],
   "source": [
    "from geopy.distance import great_circle\n",
    "\n",
    "# Junction Table for property_gym\n",
    "property_gym_df = pd.DataFrame(columns=['property_id', 'gym_id'])\n",
    "\n",
    "# Find nearby locations and create relationships\n",
    "for property_row in property_df.itertuples():\n",
    "    property_location = (property_row.latitude, property_row.longitude)\n",
    "    \n",
    "    for gym_row in gyms_df.itertuples():\n",
    "        gym_location = (gym_row.latitude, gym_row.longitude)\n",
    "        \n",
    "        # Calculate distance between property and gym locations\n",
    "        distance_km = great_circle(property_location, gym_location).kilometers\n",
    "        \n",
    "        # Define a distance threshold (adjust as needed)\n",
    "        distance_threshold = 1.0  \n",
    "        \n",
    "        # If the distance is within the threshold, create a relationship\n",
    "        if distance_km <= distance_threshold:\n",
    "            new_row = pd.DataFrame({\n",
    "                'property_id': [property_row.property_id],\n",
    "                'gym_id': [gym_row.gym_id]\n",
    "            })\n",
    "            property_gym_df = pd.concat([property_gym_df, new_row], ignore_index=True)\n",
    "\n",
    "# Display resulting DF\n",
    "print(property_gym_df)\n"
   ]
  },
  {
   "cell_type": "code",
   "execution_count": 15,
   "metadata": {},
   "outputs": [],
   "source": [
    "# Export junction table as CSV file\n",
    "property_gym_df.to_csv(\"Resources/property_gym.csv\", index=False)"
   ]
  },
  {
   "cell_type": "code",
   "execution_count": null,
   "metadata": {},
   "outputs": [],
   "source": []
  }
 ],
 "metadata": {
  "kernelspec": {
   "display_name": "dev",
   "language": "python",
   "name": "python3"
  },
  "language_info": {
   "codemirror_mode": {
    "name": "ipython",
    "version": 3
   },
   "file_extension": ".py",
   "mimetype": "text/x-python",
   "name": "python",
   "nbconvert_exporter": "python",
   "pygments_lexer": "ipython3",
   "version": "3.10.13"
  }
 },
 "nbformat": 4,
 "nbformat_minor": 2
}
