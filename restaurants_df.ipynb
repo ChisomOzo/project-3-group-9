{
 "cells": [
  {
   "cell_type": "code",
   "execution_count": 1,
   "metadata": {},
   "outputs": [],
   "source": [
    "# Import dependencies\n",
    "import pandas as pd\n",
    "import numpy as np\n",
    "import requests\n",
    "pd.set_option('max_colwidth', 400)"
   ]
  },
  {
   "cell_type": "code",
   "execution_count": 2,
   "metadata": {},
   "outputs": [
    {
     "name": "stdout",
     "output_type": "stream",
     "text": [
      "Error: 400\n",
      "{\"error\": {\"code\": \"VALIDATION_ERROR\", \"description\": \"Too many results requested, limit+offset must be <= 1000.\"}}\n",
      "<class 'pandas.core.frame.DataFrame'>\n",
      "RangeIndex: 1000 entries, 0 to 999\n",
      "Data columns (total 5 columns):\n",
      " #   Column     Non-Null Count  Dtype  \n",
      "---  ------     --------------  -----  \n",
      " 0   Name       1000 non-null   object \n",
      " 1   Address    1000 non-null   object \n",
      " 2   Ratings    1000 non-null   float64\n",
      " 3   Latitude   1000 non-null   float64\n",
      " 4   Longitude  1000 non-null   float64\n",
      "dtypes: float64(3), object(2)\n",
      "memory usage: 39.2+ KB\n"
     ]
    }
   ],
   "source": [
    "# API key and URL\n",
    "api_key = 'Bearer b19_eQfzPJHYB3SiBBxLYnn13NA8BzNHYe8AF6F0j90IIZ5EnqnHD3XBbPFv14iUQyLy_1L8A74TLDPIMjT4it-s63GM9BNZF0Hl6iulzIyx-piOIKAJvDTvon5uZXYx'\n",
    "api_url = 'https://api.yelp.com/v3/businesses/search'\n",
    "\n",
    "# Params\n",
    "params = {\n",
    "    'term': 'restaurant',\n",
    "    'location': 'Austin',\n",
    "    'categories': 'restaurants',\n",
    "    'limit': 50,\n",
    "    'offset': 0\n",
    "}\n",
    "\n",
    "# Set up headers\n",
    "headers = {\n",
    "    'Authorization': api_key\n",
    "}\n",
    "\n",
    "# Empty list for results\n",
    "all_restaurants = []\n",
    "results_per_request = 50\n",
    "\n",
    "while True:\n",
    "    # API request\n",
    "    response = requests.get(api_url, params=params, headers=headers)\n",
    "\n",
    "    # If request successful\n",
    "    if response.status_code == 200:\n",
    "        data = response.json()\n",
    "        businesses = data.get('businesses', [])\n",
    "        all_restaurants.extend(businesses)\n",
    "\n",
    "        # Check if more results\n",
    "        if len(businesses) < results_per_request:\n",
    "            break\n",
    "\n",
    "        # Update offset for the next request\n",
    "        params['offset'] += results_per_request\n",
    "\n",
    "    else:\n",
    "        print(f\"Error: {response.status_code}\")\n",
    "        print(response.text)\n",
    "        break\n",
    "\n",
    "# Create list of dictionaries\n",
    "restaurant_data = []\n",
    "for business in all_restaurants:\n",
    "    coordinates = business.get('coordinates', {})\n",
    "    restaurant_data.append({\n",
    "        'Name': business.get('name', ''),\n",
    "        'Address': ', '.join(business.get('location', {}).get('display_address', [])),\n",
    "        'Ratings': business.get('rating', 0),\n",
    "        'Latitude': coordinates.get('latitude', 0),\n",
    "        'Longitude': coordinates.get('longitude', 0)\n",
    "    })\n",
    "\n",
    "# Create a Pandas DataFrame\n",
    "restaurant_df = pd.DataFrame(restaurant_data)\n",
    "restaurant_df.info()\n"
   ]
  },
  {
   "cell_type": "code",
   "execution_count": 3,
   "metadata": {},
   "outputs": [
    {
     "name": "stdout",
     "output_type": "stream",
     "text": [
      "   rest_id                    rest_name  \\\n",
      "0        1                 Aba - Austin   \n",
      "1        2                    Qi Austin   \n",
      "2        3            1618 Asian Fusion   \n",
      "3        4  Moonshine Patio Bar & Grill   \n",
      "4        5                    Salty Sow   \n",
      "\n",
      "                                                   rest_address  rest_ratings  \\\n",
      "0        1011 S Congress Ave, Bldg 2, Ste 180, Austin, TX 78704           4.5   \n",
      "1                   835 West 6th St, Unit 114, Austin, TX 78703           4.5   \n",
      "2  1618 E Riverside Dr, AMLI South Shore Bldg, Austin, TX 78741           4.5   \n",
      "3                            303 Red River St, Austin, TX 78701           4.5   \n",
      "4                               1917 Manor Rd, Austin, TX 78722           4.5   \n",
      "\n",
      "    latitude  longitude  \n",
      "0  30.253570 -97.748030  \n",
      "1  30.270586 -97.752515  \n",
      "2  30.245474 -97.730411  \n",
      "3  30.263754 -97.738077  \n",
      "4  30.283650 -97.721318  \n"
     ]
    }
   ],
   "source": [
    "# Create DF\n",
    "restaurants_df = restaurant_df[['Name', 'Address', 'Ratings', 'Latitude', 'Longitude']].copy()\n",
    "\n",
    "# Rename columns\n",
    "restaurants_df.columns = ['rest_name', 'rest_address', 'rest_ratings', 'latitude', 'longitude']\n",
    "\n",
    "# Add new column for rest_id\n",
    "restaurants_df['rest_id'] = range(1, len(restaurants_df) + 1)\n",
    "\n",
    "# Reorder columns\n",
    "restaurants_df = restaurants_df[['rest_id', 'rest_name', 'rest_address', 'rest_ratings', 'latitude', 'longitude']]\n",
    "print(restaurants_df.head())"
   ]
  },
  {
   "cell_type": "code",
   "execution_count": 4,
   "metadata": {},
   "outputs": [],
   "source": [
    "# Export DF as CSV file\n",
    "restaurants_df.to_csv(\"Resources/restaurants.csv\", index=False)"
   ]
  },
  {
   "cell_type": "code",
   "execution_count": 5,
   "metadata": {},
   "outputs": [],
   "source": [
    "# Load property data from CSV\n",
    "property_df = pd.read_csv(\"Resources/property.csv\")"
   ]
  },
  {
   "cell_type": "code",
   "execution_count": 6,
   "metadata": {},
   "outputs": [
    {
     "name": "stdout",
     "output_type": "stream",
     "text": [
      "      property_id rest_id\n",
      "0             964       2\n",
      "1             964       9\n",
      "2             964      10\n",
      "3             964      21\n",
      "4             964      23\n",
      "...           ...     ...\n",
      "40375        8878     993\n",
      "40376        8879     856\n",
      "40377        8879     993\n",
      "40378        8880     856\n",
      "40379        8880     993\n",
      "\n",
      "[40380 rows x 2 columns]\n"
     ]
    }
   ],
   "source": [
    "from geopy.distance import great_circle\n",
    "\n",
    "# Junction Table for property_restaurant\n",
    "property_restaurant_df = pd.DataFrame(columns=['property_id', 'rest_id'])\n",
    "\n",
    "# Find nearby locations and create relationships\n",
    "for property_row in property_df.itertuples():\n",
    "    property_location = (property_row.latitude, property_row.longitude)\n",
    "    \n",
    "    for restaurant_row in restaurants_df.itertuples():\n",
    "        restaurant_location = (restaurant_row.latitude, restaurant_row.longitude)\n",
    "        \n",
    "        # Calculate distance between property and restaurant locations\n",
    "        distance_km = great_circle(property_location, restaurant_location).kilometers\n",
    "        \n",
    "        distance_threshold = 1.0  \n",
    "        \n",
    "        # If the distance is within the threshold, create a relationship\n",
    "        if distance_km <= distance_threshold:\n",
    "            new_row = pd.DataFrame({\n",
    "                'property_id': [property_row.property_id],\n",
    "                'rest_id': [restaurant_row.rest_id]\n",
    "            })\n",
    "            property_restaurant_df = pd.concat([property_restaurant_df, new_row], ignore_index=True)\n",
    "\n",
    "# Display the resulting DataFrame\n",
    "print(property_restaurant_df)"
   ]
  },
  {
   "cell_type": "code",
   "execution_count": 7,
   "metadata": {},
   "outputs": [],
   "source": [
    "# Export junction table as CSV file\n",
    "property_restaurant_df.to_csv(\"Resources/property_restaurant.csv\", index=False)"
   ]
  },
  {
   "cell_type": "code",
   "execution_count": null,
   "metadata": {},
   "outputs": [],
   "source": []
  }
 ],
 "metadata": {
  "kernelspec": {
   "display_name": "dev",
   "language": "python",
   "name": "python3"
  },
  "language_info": {
   "codemirror_mode": {
    "name": "ipython",
    "version": 3
   },
   "file_extension": ".py",
   "mimetype": "text/x-python",
   "name": "python",
   "nbconvert_exporter": "python",
   "pygments_lexer": "ipython3",
   "version": "3.10.12"
  }
 },
 "nbformat": 4,
 "nbformat_minor": 2
}
