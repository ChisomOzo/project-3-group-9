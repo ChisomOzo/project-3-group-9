{
 "cells": [
  {
   "cell_type": "code",
   "execution_count": 1,
   "metadata": {},
   "outputs": [],
   "source": [
    "# Import dependencies\n",
    "import pandas as pd\n",
    "import numpy as np\n",
    "import requests\n",
    "pd.set_option('max_colwidth', 400)"
   ]
  },
  {
   "cell_type": "code",
   "execution_count": 2,
   "metadata": {},
   "outputs": [
    {
     "name": "stdout",
     "output_type": "stream",
     "text": [
      "Error: 400\n",
      "{\"error\": {\"code\": \"VALIDATION_ERROR\", \"description\": \"Too many results requested, limit+offset must be <= 1000.\"}}\n",
      "<class 'pandas.core.frame.DataFrame'>\n",
      "RangeIndex: 1000 entries, 0 to 999\n",
      "Data columns (total 5 columns):\n",
      " #   Column     Non-Null Count  Dtype  \n",
      "---  ------     --------------  -----  \n",
      " 0   Name       1000 non-null   object \n",
      " 1   Address    1000 non-null   object \n",
      " 2   Ratings    1000 non-null   float64\n",
      " 3   Latitude   1000 non-null   float64\n",
      " 4   Longitude  1000 non-null   float64\n",
      "dtypes: float64(3), object(2)\n",
      "memory usage: 39.2+ KB\n"
     ]
    }
   ],
   "source": [
    "# API key and URL\n",
    "api_key = 'Bearer b19_eQfzPJHYB3SiBBxLYnn13NA8BzNHYe8AF6F0j90IIZ5EnqnHD3XBbPFv14iUQyLy_1L8A74TLDPIMjT4it-s63GM9BNZF0Hl6iulzIyx-piOIKAJvDTvon5uZXYx'\n",
    "api_url = 'https://api.yelp.com/v3/businesses/search'\n",
    "\n",
    "# Params\n",
    "params = {\n",
    "    'term': 'school',\n",
    "    'location': 'Austin',\n",
    "    'categories': 'schools',\n",
    "    'limit': 50,\n",
    "    'offset': 0\n",
    "}\n",
    "\n",
    "# Set up headers\n",
    "headers = {\n",
    "    'Authorization': api_key\n",
    "}\n",
    "\n",
    "# Empty list for results\n",
    "all_schools = []\n",
    "results_per_request = 50\n",
    "\n",
    "while True:\n",
    "    # API request\n",
    "    response = requests.get(api_url, params=params, headers=headers)\n",
    "\n",
    "    # If request successful\n",
    "    if response.status_code == 200:\n",
    "        data = response.json()\n",
    "        businesses = data.get('businesses', [])\n",
    "        all_schools.extend(businesses)\n",
    "\n",
    "        # Check if more results\n",
    "        if len(businesses) < results_per_request:\n",
    "            break\n",
    "\n",
    "        # Update offset for the next request\n",
    "        params['offset'] += results_per_request\n",
    "\n",
    "    else:\n",
    "        print(f\"Error: {response.status_code}\")\n",
    "        print(response.text)\n",
    "        break\n",
    "\n",
    "# Create list of dictionaries\n",
    "school_data = []\n",
    "for business in all_schools:\n",
    "    coordinates = business.get('coordinates', {})\n",
    "    school_data.append({\n",
    "        'Name': business.get('name', ''),\n",
    "        'Address': ', '.join(business.get('location', {}).get('display_address', [])),\n",
    "        'Ratings': business.get('rating', 0),\n",
    "        'Latitude': coordinates.get('latitude', 0),\n",
    "        'Longitude': coordinates.get('longitude', 0)\n",
    "    })\n",
    "\n",
    "# Create a Pandas DataFrame\n",
    "school_df = pd.DataFrame(school_data)\n",
    "school_df.info()"
   ]
  },
  {
   "cell_type": "code",
   "execution_count": 3,
   "metadata": {},
   "outputs": [
    {
     "name": "stdout",
     "output_type": "stream",
     "text": [
      "   school_id                    school_name  \\\n",
      "0          1  Magellan International School   \n",
      "1          2    Austin International School   \n",
      "2          3           McCallum High School   \n",
      "3          4         Gorzycki Middle School   \n",
      "4          5  International School of Texas   \n",
      "\n",
      "                               school_address  school_ratings   latitude  \\\n",
      "0  7938 Great Northern Blvd, Austin, TX 78757             4.5  30.363261   \n",
      "1           4001 Adelphi Ln, Austin, TX 78727             4.5  30.422421   \n",
      "2          5600 Sunshine Dr, Austin, TX 78756             3.5  30.326240   \n",
      "3       7412 W Slaughter Ln, Austin, TX 78749             4.0  30.216398   \n",
      "4          4402 Hudson Bend, Austin, TX 78734             4.5  30.404580   \n",
      "\n",
      "   longitude  \n",
      "0 -97.742185  \n",
      "1 -97.718074  \n",
      "2 -97.729820  \n",
      "3 -97.893745  \n",
      "4 -97.927680  \n"
     ]
    }
   ],
   "source": [
    "# Create DF\n",
    "schools_df = school_df[['Name', 'Address', 'Ratings', 'Latitude', 'Longitude']].copy()\n",
    "\n",
    "# Rename columns\n",
    "schools_df.columns = ['school_name', 'school_address', 'school_ratings', 'latitude', 'longitude']\n",
    "\n",
    "# Add new column for school_id\n",
    "schools_df['school_id'] = range(1, len(schools_df) + 1)\n",
    "\n",
    "# Reorder columns\n",
    "schools_df = schools_df[['school_id', 'school_name', 'school_address', 'school_ratings', 'latitude', 'longitude']]\n",
    "print(schools_df.head())"
   ]
  },
  {
   "cell_type": "code",
   "execution_count": 4,
   "metadata": {},
   "outputs": [],
   "source": [
    "# Export DF as CSV file\n",
    "schools_df.to_csv(\"Resources/schools.csv\", index=False)"
   ]
  },
  {
   "cell_type": "code",
   "execution_count": 5,
   "metadata": {},
   "outputs": [],
   "source": [
    "# Load property data from CSV\n",
    "property_df = pd.read_csv(\"Resources/property.csv\")"
   ]
  },
  {
   "cell_type": "code",
   "execution_count": 6,
   "metadata": {},
   "outputs": [
    {
     "name": "stdout",
     "output_type": "stream",
     "text": [
      "      property_id school_id\n",
      "0               2       125\n",
      "1               2       855\n",
      "2               5       125\n",
      "3               6       742\n",
      "4               6       855\n",
      "...           ...       ...\n",
      "21962        8879       671\n",
      "21963        8879       756\n",
      "21964        8880       493\n",
      "21965        8880       671\n",
      "21966        8880       756\n",
      "\n",
      "[21967 rows x 2 columns]\n"
     ]
    }
   ],
   "source": [
    "from geopy.distance import great_circle\n",
    "\n",
    "# Junction Table for property_school\n",
    "property_school_df = pd.DataFrame(columns=['property_id', 'school_id'])\n",
    "\n",
    "# Find nearby locations and create relationships\n",
    "for property_row in property_df.itertuples():\n",
    "    property_location = (property_row.latitude, property_row.longitude)\n",
    "    \n",
    "    for school_row in schools_df.itertuples():\n",
    "        school_location = (school_row.latitude, school_row.longitude)\n",
    "        \n",
    "        # Calculate distance between property and school locations\n",
    "        distance_km = great_circle(property_location, school_location).kilometers\n",
    "        \n",
    "        distance_threshold = 1.0  \n",
    "        \n",
    "        # If the distance is within the threshold, create a relationship\n",
    "        if distance_km <= distance_threshold:\n",
    "            new_row = pd.DataFrame({\n",
    "                'property_id': [property_row.property_id],\n",
    "                'school_id': [school_row.school_id]\n",
    "            })\n",
    "            property_school_df = pd.concat([property_school_df, new_row], ignore_index=True)\n",
    "\n",
    "# Display the resulting DataFrame\n",
    "print(property_school_df)\n"
   ]
  },
  {
   "cell_type": "code",
   "execution_count": 7,
   "metadata": {},
   "outputs": [],
   "source": [
    "# Export junction table as CSV file\n",
    "property_school_df.to_csv(\"Resources/property_school.csv\", index=False)"
   ]
  },
  {
   "cell_type": "code",
   "execution_count": null,
   "metadata": {},
   "outputs": [],
   "source": []
  }
 ],
 "metadata": {
  "kernelspec": {
   "display_name": "dev",
   "language": "python",
   "name": "python3"
  },
  "language_info": {
   "codemirror_mode": {
    "name": "ipython",
    "version": 3
   },
   "file_extension": ".py",
   "mimetype": "text/x-python",
   "name": "python",
   "nbconvert_exporter": "python",
   "pygments_lexer": "ipython3",
   "version": "3.10.12"
  }
 },
 "nbformat": 4,
 "nbformat_minor": 2
}
