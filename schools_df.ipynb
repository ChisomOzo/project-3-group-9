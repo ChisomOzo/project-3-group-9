{
 "cells": [
  {
   "cell_type": "code",
   "execution_count": 1,
   "metadata": {},
   "outputs": [],
   "source": [
    "# Import dependencies\n",
    "import pandas as pd\n",
    "import numpy as np\n",
    "import requests\n",
    "pd.set_option('max_colwidth', 400)"
   ]
  },
  {
   "cell_type": "code",
   "execution_count": 3,
   "metadata": {},
   "outputs": [
    {
     "name": "stdout",
     "output_type": "stream",
     "text": [
      "Error: 400\n",
      "{\"error\": {\"code\": \"VALIDATION_ERROR\", \"description\": \"Too many results requested, limit+offset must be <= 1000.\"}}\n"
     ]
    },
    {
     "ename": "NameError",
     "evalue": "name 'location' is not defined",
     "output_type": "error",
     "traceback": [
      "\u001b[1;31m---------------------------------------------------------------------------\u001b[0m",
      "\u001b[1;31mNameError\u001b[0m                                 Traceback (most recent call last)",
      "Cell \u001b[1;32mIn[3], line 55\u001b[0m\n\u001b[0;32m     47\u001b[0m \u001b[38;5;28;01mfor\u001b[39;00m business \u001b[38;5;129;01min\u001b[39;00m all_schools:\n\u001b[0;32m     48\u001b[0m     coordinates \u001b[38;5;241m=\u001b[39m business\u001b[38;5;241m.\u001b[39mget(\u001b[38;5;124m'\u001b[39m\u001b[38;5;124mcoordinates\u001b[39m\u001b[38;5;124m'\u001b[39m, {})\n\u001b[0;32m     49\u001b[0m     school_data\u001b[38;5;241m.\u001b[39mappend({\n\u001b[0;32m     50\u001b[0m         \u001b[38;5;124m'\u001b[39m\u001b[38;5;124mName\u001b[39m\u001b[38;5;124m'\u001b[39m: business\u001b[38;5;241m.\u001b[39mget(\u001b[38;5;124m'\u001b[39m\u001b[38;5;124mname\u001b[39m\u001b[38;5;124m'\u001b[39m, \u001b[38;5;124m'\u001b[39m\u001b[38;5;124m'\u001b[39m),\n\u001b[0;32m     51\u001b[0m         \u001b[38;5;124m'\u001b[39m\u001b[38;5;124mAddress\u001b[39m\u001b[38;5;124m'\u001b[39m: \u001b[38;5;124m'\u001b[39m\u001b[38;5;124m, \u001b[39m\u001b[38;5;124m'\u001b[39m\u001b[38;5;241m.\u001b[39mjoin(business\u001b[38;5;241m.\u001b[39mget(\u001b[38;5;124m'\u001b[39m\u001b[38;5;124mlocation\u001b[39m\u001b[38;5;124m'\u001b[39m, {})\u001b[38;5;241m.\u001b[39mget(\u001b[38;5;124m'\u001b[39m\u001b[38;5;124mdisplay_address\u001b[39m\u001b[38;5;124m'\u001b[39m, [])),\n\u001b[0;32m     52\u001b[0m         \u001b[38;5;124m'\u001b[39m\u001b[38;5;124mRatings\u001b[39m\u001b[38;5;124m'\u001b[39m: business\u001b[38;5;241m.\u001b[39mget(\u001b[38;5;124m'\u001b[39m\u001b[38;5;124mrating\u001b[39m\u001b[38;5;124m'\u001b[39m, \u001b[38;5;241m0\u001b[39m),\n\u001b[0;32m     53\u001b[0m         \u001b[38;5;124m'\u001b[39m\u001b[38;5;124mLatitude\u001b[39m\u001b[38;5;124m'\u001b[39m: coordinates\u001b[38;5;241m.\u001b[39mget(\u001b[38;5;124m'\u001b[39m\u001b[38;5;124mlatitude\u001b[39m\u001b[38;5;124m'\u001b[39m, \u001b[38;5;241m0\u001b[39m),\n\u001b[0;32m     54\u001b[0m         \u001b[38;5;124m'\u001b[39m\u001b[38;5;124mLongitude\u001b[39m\u001b[38;5;124m'\u001b[39m: coordinates\u001b[38;5;241m.\u001b[39mget(\u001b[38;5;124m'\u001b[39m\u001b[38;5;124mlongitude\u001b[39m\u001b[38;5;124m'\u001b[39m, \u001b[38;5;241m0\u001b[39m),\n\u001b[1;32m---> 55\u001b[0m         \u001b[38;5;124m'\u001b[39m\u001b[38;5;124mzipcode\u001b[39m\u001b[38;5;124m'\u001b[39m:\u001b[43mlocation\u001b[49m\u001b[38;5;241m.\u001b[39mget(\u001b[38;5;124m'\u001b[39m\u001b[38;5;124mzip_code\u001b[39m\u001b[38;5;124m'\u001b[39m,\u001b[38;5;241m0\u001b[39m)\n\u001b[0;32m     56\u001b[0m     })\n\u001b[0;32m     58\u001b[0m \u001b[38;5;66;03m# Create a Pandas DataFrame\u001b[39;00m\n\u001b[0;32m     59\u001b[0m school_df \u001b[38;5;241m=\u001b[39m pd\u001b[38;5;241m.\u001b[39mDataFrame(school_data)\n",
      "\u001b[1;31mNameError\u001b[0m: name 'location' is not defined"
     ]
    }
   ],
   "source": [
    "# API key and URL\n",
    "api_key = 'Bearer QjMXje-s1yL6FsIL_x1SynQ65ZyMeWyMWHlxJ8iiPdUylOikFh5ZPwrznAmo4rh33LJXYB4qUqXeRBDg1zyULiT3XV0YFoC-HEfn6zRLiIVfvJ93wF79OrOoNON3ZXYx'\n",
    "api_url = 'https://api.yelp.com/v3/businesses/search'\n",
    "\n",
    "# Params\n",
    "params = {\n",
    "    'term': 'school',\n",
    "    'location': 'Austin',\n",
    "    'categories': 'schools',\n",
    "    'limit': 20,\n",
    "    'offset': 0\n",
    "}\n",
    "\n",
    "# Set up headers\n",
    "headers = {\n",
    "    'Authorization': api_key\n",
    "}\n",
    "\n",
    "# Empty list for results\n",
    "all_schools = []\n",
    "results_per_request = 20\n",
    "\n",
    "while True:\n",
    "    # API request\n",
    "    response = requests.get(api_url, params=params, headers=headers)\n",
    "\n",
    "    # If request successful\n",
    "    if response.status_code == 200:\n",
    "        data = response.json()\n",
    "        businesses = data.get('businesses', [])\n",
    "        all_schools.extend(businesses)\n",
    "\n",
    "        # Check if more results\n",
    "        if len(businesses) < results_per_request:\n",
    "            break\n",
    "\n",
    "        # Update offset for the next request\n",
    "        params['offset'] += results_per_request\n",
    "\n",
    "    else:\n",
    "        print(f\"Error: {response.status_code}\")\n",
    "        print(response.text)\n",
    "        break\n",
    "\n",
    "# Create list of dictionaries\n",
    "school_data = []\n",
    "for business in all_schools:\n",
    "    coordinates = business.get('coordinates', {})\n",
    "    location=business.get('location',{})\n",
    "    school_data.append({\n",
    "        'Name': business.get('name', ''),\n",
    "        'Address': ', '.join(business.get('location', {}).get('display_address', [])),\n",
    "        'Ratings': business.get('rating', 0),\n",
    "        'Latitude': coordinates.get('latitude', 0),\n",
    "        'Longitude': coordinates.get('longitude', 0),\n",
    "        'zipcode':  location.get('zip_code',0)\n",
    "    })\n",
    "\n",
    "# Create a Pandas DataFrame\n",
    "school_df = pd.DataFrame(school_data)\n",
    "school_df.info()"
   ]
  },
  {
   "cell_type": "code",
   "execution_count": null,
   "metadata": {},
   "outputs": [
    {
     "name": "stdout",
     "output_type": "stream",
     "text": [
      "   school_id                    school_name  \\\n",
      "0          1  Magellan International School   \n",
      "1          2    Austin International School   \n",
      "2          3           McCallum High School   \n",
      "3          4         Gorzycki Middle School   \n",
      "4          5  International School of Texas   \n",
      "\n",
      "                               school_address  school_ratings   latitude  \\\n",
      "0  7938 Great Northern Blvd, Austin, TX 78757             4.5  30.363261   \n",
      "1           4001 Adelphi Ln, Austin, TX 78727             4.5  30.422421   \n",
      "2          5600 Sunshine Dr, Austin, TX 78756             3.5  30.326240   \n",
      "3       7412 W Slaughter Ln, Austin, TX 78749             4.0  30.216398   \n",
      "4          4402 Hudson Bend, Austin, TX 78734             4.5  30.404580   \n",
      "\n",
      "   longitude  \n",
      "0 -97.742185  \n",
      "1 -97.718074  \n",
      "2 -97.729820  \n",
      "3 -97.893745  \n",
      "4 -97.927680  \n"
     ]
    }
   ],
   "source": [
    "# Create DF\n",
    "schools_df = school_df[['Name', 'Address', 'Ratings', 'Latitude', 'Longitude']].copy()\n",
    "\n",
    "# Rename columns\n",
    "schools_df.columns = ['school_name', 'school_address', 'school_ratings', 'latitude', 'longitude']\n",
    "\n",
    "# Add new column for school_id\n",
    "schools_df['school_id'] = range(1, len(schools_df) + 1)\n",
    "\n",
    "# Reorder columns\n",
    "schools_df = schools_df[['school_id', 'school_name', 'school_address', 'school_ratings', 'latitude', 'longitude']]\n",
    "print(schools_df.head())"
   ]
  },
  {
   "cell_type": "code",
   "execution_count": null,
   "metadata": {},
   "outputs": [],
   "source": [
    "# Export DF as CSV file\n",
    "schools_df.to_csv(\"Resources/schools.csv\", index=False)"
   ]
  },
  {
   "cell_type": "code",
   "execution_count": null,
   "metadata": {},
   "outputs": [],
   "source": [
    "# Load property data from CSV\n",
    "property_df = pd.read_csv(\"Resources/property.csv\")"
   ]
  },
  {
   "cell_type": "code",
   "execution_count": null,
   "metadata": {},
   "outputs": [
    {
     "name": "stdout",
     "output_type": "stream",
     "text": [
      "      property_id school_id\n",
      "0               2       127\n",
      "1               2       850\n",
      "2               5       127\n",
      "3               6       745\n",
      "4               6       850\n",
      "...           ...       ...\n",
      "21962        8879       670\n",
      "21963        8879       763\n",
      "21964        8880       492\n",
      "21965        8880       670\n",
      "21966        8880       763\n",
      "\n",
      "[21967 rows x 2 columns]\n"
     ]
    }
   ],
   "source": [
    "from geopy.distance import great_circle\n",
    "\n",
    "# Junction Table for property_school\n",
    "property_school_df = pd.DataFrame(columns=['property_id', 'school_id'])\n",
    "\n",
    "# Find nearby locations and create relationships\n",
    "for property_row in property_df.itertuples():\n",
    "    property_location = (property_row.latitude, property_row.longitude)\n",
    "    \n",
    "    for school_row in schools_df.itertuples():\n",
    "        school_location = (school_row.latitude, school_row.longitude)\n",
    "        \n",
    "        # Calculate distance between property and school locations\n",
    "        distance_km = great_circle(property_location, school_location).kilometers\n",
    "        \n",
    "        distance_threshold = 1.0  \n",
    "        \n",
    "        # If the distance is within the threshold, create a relationship\n",
    "        if distance_km <= distance_threshold:\n",
    "            new_row = pd.DataFrame({\n",
    "                'property_id': [property_row.property_id],\n",
    "                'school_id': [school_row.school_id]\n",
    "            })\n",
    "            property_school_df = pd.concat([property_school_df, new_row], ignore_index=True)\n",
    "\n",
    "# Display the resulting DataFrame\n",
    "print(property_school_df)\n"
   ]
  },
  {
   "cell_type": "code",
   "execution_count": null,
   "metadata": {},
   "outputs": [],
   "source": [
    "# Export junction table as CSV file\n",
    "property_school_df.to_csv(\"Resources/property_school.csv\", index=False)"
   ]
  },
  {
   "cell_type": "code",
   "execution_count": null,
   "metadata": {},
   "outputs": [],
   "source": []
  }
 ],
 "metadata": {
  "kernelspec": {
   "display_name": "dev",
   "language": "python",
   "name": "python3"
  },
  "language_info": {
   "codemirror_mode": {
    "name": "ipython",
    "version": 3
   },
   "file_extension": ".py",
   "mimetype": "text/x-python",
   "name": "python",
   "nbconvert_exporter": "python",
   "pygments_lexer": "ipython3",
   "version": "3.11.4"
  }
 },
 "nbformat": 4,
 "nbformat_minor": 2
}
