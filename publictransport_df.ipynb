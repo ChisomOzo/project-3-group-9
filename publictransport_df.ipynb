{
 "cells": [
  {
   "cell_type": "code",
   "execution_count": 1,
   "metadata": {},
   "outputs": [],
   "source": [
    "# Import dependencies\n",
    "import pandas as pd\n",
    "import numpy as np\n",
    "import requests\n",
    "pd.set_option('max_colwidth', 400)"
   ]
  },
  {
   "cell_type": "code",
   "execution_count": 2,
   "metadata": {},
   "outputs": [
    {
     "name": "stdout",
     "output_type": "stream",
     "text": [
      "<class 'pandas.core.frame.DataFrame'>\n",
      "RangeIndex: 18 entries, 0 to 17\n",
      "Data columns (total 5 columns):\n",
      " #   Column     Non-Null Count  Dtype  \n",
      "---  ------     --------------  -----  \n",
      " 0   Name       18 non-null     object \n",
      " 1   Address    18 non-null     object \n",
      " 2   Ratings    18 non-null     float64\n",
      " 3   Latitude   18 non-null     float64\n",
      " 4   Longitude  18 non-null     float64\n",
      "dtypes: float64(3), object(2)\n",
      "memory usage: 848.0+ bytes\n"
     ]
    }
   ],
   "source": [
    "# API key and URL\n",
    "api_key = 'Your_API_Key'\n",
    "api_url = 'https://api.yelp.com/v3/businesses/search'\n",
    "\n",
    "# Params\n",
    "params = {\n",
    "    'term': 'public transport',\n",
    "    'location': 'Austin',\n",
    "    'categories': 'publictransport',\n",
    "    'limit': 50,\n",
    "    'offset': 0\n",
    "}\n",
    "\n",
    "# Set up headers\n",
    "headers = {\n",
    "    'Authorization': api_key\n",
    "}\n",
    "\n",
    "# Empty list for results\n",
    "all_publictransport = []\n",
    "results_per_request = 50\n",
    "\n",
    "while True:\n",
    "    # API request\n",
    "    response = requests.get(api_url, params=params, headers=headers)\n",
    "\n",
    "    # If request successful\n",
    "    if response.status_code == 200:\n",
    "        data = response.json()\n",
    "        businesses = data.get('businesses', [])\n",
    "        all_publictransport.extend(businesses)\n",
    "\n",
    "        # Check if more results\n",
    "        if len(businesses) < results_per_request:\n",
    "            break\n",
    "\n",
    "        # Update offset for the next request\n",
    "        params['offset'] += results_per_request\n",
    "\n",
    "    else:\n",
    "        print(f\"Error: {response.status_code}\")\n",
    "        print(response.text)\n",
    "        break\n",
    "\n",
    "# Create list of dictionaries\n",
    "publictransport_data = []\n",
    "for business in all_publictransport:\n",
    "    coordinates = business.get('coordinates', {})\n",
    "    publictransport_data.append({\n",
    "        'Name': business.get('name', ''),\n",
    "        'Address': ', '.join(business.get('location', {}).get('display_address', [])),\n",
    "        'Ratings': business.get('rating', 0),\n",
    "        'Latitude': coordinates.get('latitude', 0),\n",
    "        'Longitude': coordinates.get('longitude', 0)\n",
    "    })\n",
    "\n",
    "# Create a Pandas DataFrame\n",
    "publictransport_df = pd.DataFrame(publictransport_data)\n",
    "publictransport_df.info()"
   ]
  },
  {
   "cell_type": "code",
   "execution_count": 3,
   "metadata": {},
   "outputs": [
    {
     "name": "stdout",
     "output_type": "stream",
     "text": [
      "   publictransport_id         publictransport_name  \\\n",
      "0                   1                Capital Metro   \n",
      "1                   2   North Lamar Transit Center   \n",
      "2                   3  MetroRail - Leander Station   \n",
      "3                   4             Metrobike Austin   \n",
      "4                   5   Highland Metrorail Station   \n",
      "\n",
      "                            publictransport_address  publictransport_ratings  \\\n",
      "0           209 W 9th St, Ste 100, Austin, TX 78701                      2.0   \n",
      "1  N Lamar Blvd And Research Blvd, Austin, TX 78758                      2.0   \n",
      "2               800 N US Hwy 183, Leander, TX 78641                      5.0   \n",
      "3         1000 Brazos St, Ste 100, Austin, TX 78701                      2.0   \n",
      "4               6400 Airport Blvd, Austin, TX 78752                      3.0   \n",
      "\n",
      "    latitude  longitude  \n",
      "0  30.271392 -97.744063  \n",
      "1  30.348380 -97.712510  \n",
      "2  30.587690 -97.855900  \n",
      "3  30.271542 -97.740194  \n",
      "4  30.328699 -97.716183  \n"
     ]
    }
   ],
   "source": [
    "# Create DF\n",
    "publictransports_df = publictransport_df[['Name', 'Address', 'Ratings', 'Latitude', 'Longitude']].copy()\n",
    "\n",
    "# Rename columns\n",
    "publictransports_df.columns = ['publictransport_name', 'publictransport_address', 'publictransport_ratings', 'latitude', 'longitude']\n",
    "\n",
    "# Add new column for publictransport_id\n",
    "publictransports_df['publictransport_id'] = range(1, len(publictransports_df) + 1)\n",
    "\n",
    "# Reorder columns\n",
    "publictransports_df = publictransports_df[['publictransport_id', 'publictransport_name', 'publictransport_address', 'publictransport_ratings', 'latitude', 'longitude']]\n",
    "print(publictransports_df.head())"
   ]
  },
  {
   "cell_type": "code",
   "execution_count": 4,
   "metadata": {},
   "outputs": [],
   "source": [
    "# Export DF as CSV file\n",
    "publictransports_df.to_csv(\"Resources/publictransports.csv\", index=False)\n"
   ]
  },
  {
   "cell_type": "code",
   "execution_count": 5,
   "metadata": {},
   "outputs": [],
   "source": [
    "# Load property data from CSV\n",
    "property_df = pd.read_csv(\"Resources/property.csv\")"
   ]
  },
  {
   "cell_type": "code",
   "execution_count": 6,
   "metadata": {},
   "outputs": [
    {
     "name": "stdout",
     "output_type": "stream",
     "text": [
      "    property_id publictransport_id\n",
      "0           964                  1\n",
      "1           964                  4\n",
      "2           964                 14\n",
      "3           964                 15\n",
      "4           964                 16\n",
      "..          ...                ...\n",
      "390        8738                  2\n",
      "391        8740                  2\n",
      "392        8800                  2\n",
      "393        8807                  2\n",
      "394        8844                  2\n",
      "\n",
      "[395 rows x 2 columns]\n"
     ]
    }
   ],
   "source": [
    "from geopy.distance import great_circle\n",
    "\n",
    "# Junction Table for property_public_transport\n",
    "property_public_transport_df = pd.DataFrame(columns=['property_id', 'publictransport_id'])\n",
    "\n",
    "# Find nearby locations and create relationships\n",
    "for property_row in property_df.itertuples():\n",
    "    property_location = (property_row.latitude, property_row.longitude)\n",
    "    \n",
    "    for pt_row in publictransports_df.itertuples():\n",
    "        pt_location = (pt_row.latitude, pt_row.longitude)\n",
    "        \n",
    "        # Calculate distance between property and public transport locations\n",
    "        distance_km = great_circle(property_location, pt_location).kilometers\n",
    "        \n",
    "        # Define a distance threshold (adjust as needed)\n",
    "        distance_threshold = 1.0  \n",
    "        \n",
    "        # If the distance is within the threshold, create a relationship\n",
    "        if distance_km <= distance_threshold:\n",
    "            new_row = pd.DataFrame({\n",
    "                'property_id': [property_row.property_id],\n",
    "                'publictransport_id': [pt_row.publictransport_id]\n",
    "            })\n",
    "            property_public_transport_df = pd.concat([property_public_transport_df, new_row], ignore_index=True)\n",
    "\n",
    "# Display the resulting DataFrame\n",
    "print(property_public_transport_df)\n"
   ]
  },
  {
   "cell_type": "code",
   "execution_count": 7,
   "metadata": {},
   "outputs": [],
   "source": [
    "# Export junction table as CSV file\n",
    "property_public_transport_df.to_csv(\"Resources/property_publictransport.csv\", index=False)"
   ]
  },
  {
   "cell_type": "code",
   "execution_count": null,
   "metadata": {},
   "outputs": [],
   "source": []
  }
 ],
 "metadata": {
  "kernelspec": {
   "display_name": "dev",
   "language": "python",
   "name": "python3"
  },
  "language_info": {
   "codemirror_mode": {
    "name": "ipython",
    "version": 3
   },
   "file_extension": ".py",
   "mimetype": "text/x-python",
   "name": "python",
   "nbconvert_exporter": "python",
   "pygments_lexer": "ipython3",
   "version": "3.10.13"
  }
 },
 "nbformat": 4,
 "nbformat_minor": 2
}
